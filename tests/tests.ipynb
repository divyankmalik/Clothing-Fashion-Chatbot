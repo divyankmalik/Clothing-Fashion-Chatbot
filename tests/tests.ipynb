{
 "cells": [
  {
   "cell_type": "code",
   "execution_count": 3,
   "id": "b2ea2cbf",
   "metadata": {},
   "outputs": [
    {
     "name": "stdout",
     "output_type": "stream",
     "text": [
      "✅ Basic imports successful!\n",
      "✅ NLTK data downloaded!\n",
      "✅ Transformers loaded!\n"
     ]
    },
    {
     "name": "stderr",
     "output_type": "stream",
     "text": [
      "[nltk_data] Downloading package punkt to\n",
      "[nltk_data]     C:\\Users\\divya\\AppData\\Roaming\\nltk_data...\n",
      "[nltk_data]   Package punkt is already up-to-date!\n",
      "[nltk_data] Downloading package stopwords to\n",
      "[nltk_data]     C:\\Users\\divya\\AppData\\Roaming\\nltk_data...\n",
      "[nltk_data]   Package stopwords is already up-to-date!\n",
      "[nltk_data] Downloading package wordnet to\n",
      "[nltk_data]     C:\\Users\\divya\\AppData\\Roaming\\nltk_data...\n",
      "[nltk_data]   Package wordnet is already up-to-date!\n",
      "[nltk_data] Downloading package vader_lexicon to\n",
      "[nltk_data]     C:\\Users\\divya\\AppData\\Roaming\\nltk_data...\n",
      "[nltk_data]   Package vader_lexicon is already up-to-date!\n"
     ]
    }
   ],
   "source": [
    "# Cell 1: Test imports\n",
    "import pandas as pd\n",
    "import numpy as np\n",
    "print(\"✅ Basic imports successful!\")\n",
    "\n",
    "# Cell 2: Install NLTK data (one-time setup)\n",
    "import nltk\n",
    "nltk.download('punkt')\n",
    "nltk.download('stopwords') \n",
    "nltk.download('wordnet')\n",
    "nltk.download('vader_lexicon')\n",
    "print(\"✅ NLTK data downloaded!\")\n",
    "\n",
    "# Cell 3: Test heavy imports\n",
    "from sentence_transformers import SentenceTransformer\n",
    "from transformers import pipeline\n",
    "print(\"✅ Transformers loaded!\")"
   ]
  },
  {
   "cell_type": "code",
   "execution_count": 5,
   "id": "9f278b4e",
   "metadata": {},
   "outputs": [
    {
     "ename": "ModuleNotFoundError",
     "evalue": "No module named 'serpapi'",
     "output_type": "error",
     "traceback": [
      "\u001b[1;31m---------------------------------------------------------------------------\u001b[0m",
      "\u001b[1;31mModuleNotFoundError\u001b[0m                       Traceback (most recent call last)",
      "Cell \u001b[1;32mIn[5], line 2\u001b[0m\n\u001b[0;32m      1\u001b[0m \u001b[38;5;66;03m## API to get info on clothes\u001b[39;00m\n\u001b[1;32m----> 2\u001b[0m \u001b[38;5;28;01mfrom\u001b[39;00m\u001b[38;5;250m \u001b[39m\u001b[38;5;21;01mserpapi\u001b[39;00m\u001b[38;5;250m \u001b[39m\u001b[38;5;28;01mimport\u001b[39;00m GoogleSearch\n\u001b[0;32m      4\u001b[0m api_key \u001b[38;5;241m=\u001b[39m \u001b[38;5;124m\"\u001b[39m\u001b[38;5;124mYOUR_SERPAPI_KEY\u001b[39m\u001b[38;5;124m\"\u001b[39m\n\u001b[0;32m      6\u001b[0m \u001b[38;5;66;03m# Target sites\u001b[39;00m\n",
      "\u001b[1;31mModuleNotFoundError\u001b[0m: No module named 'serpapi'"
     ]
    }
   ],
   "source": [
    "## API to get info on clothes\n",
    "from serpapi import GoogleSearch\n",
    "\n",
    "api_key = \"YOUR_SERPAPI_KEY\"\n",
    "\n",
    "# Target sites\n",
    "brands = [\"nike.com\", \"adidas.com\", \"hm.com\", \"zara.com\",\"shein.com\",\"temu.com\",\"converse.com\"]\n",
    "queries = [\n",
    "    \"buy clothes online\",\n",
    "    \"fashion stores\",\n",
    "    \"sportswear\",\n",
    "    \"men clothing\",\n",
    "    \"women clothing\"\n",
    "]\n",
    "\n",
    "for brand in brands:\n",
    "    for query in queries:\n",
    "        search_query = f\"site:{brand} {query}\"  # restrict search to this site\n",
    "        params = {\n",
    "            \"engine\": \"google\",\n",
    "            \"q\": search_query,\n",
    "            \"api_key\": api_key,\n",
    "            \"num\": 10\n",
    "        }\n",
    "\n",
    "        search = GoogleSearch(params)\n",
    "        results = search.get_dict()\n",
    "\n",
    "        print(f\"\\nResults for {brand} - {query}:\")\n",
    "        for item in results.get(\"organic_results\", []):\n",
    "            title = item.get(\"title\")\n",
    "            link = item.get(\"link\")\n",
    "            print(f\"{title}: {link}\")\n",
    "\n",
    "\n"
   ]
  },
  {
   "cell_type": "code",
   "execution_count": null,
   "id": "dce0b1cb",
   "metadata": {},
   "outputs": [],
   "source": []
  },
  {
   "cell_type": "code",
   "execution_count": null,
   "id": "040de61a",
   "metadata": {},
   "outputs": [],
   "source": []
  },
  {
   "cell_type": "code",
   "execution_count": null,
   "id": "89eff448",
   "metadata": {},
   "outputs": [],
   "source": []
  }
 ],
 "metadata": {
  "kernelspec": {
   "display_name": "base",
   "language": "python",
   "name": "python3"
  },
  "language_info": {
   "codemirror_mode": {
    "name": "ipython",
    "version": 3
   },
   "file_extension": ".py",
   "mimetype": "text/x-python",
   "name": "python",
   "nbconvert_exporter": "python",
   "pygments_lexer": "ipython3",
   "version": "3.13.5"
  }
 },
 "nbformat": 4,
 "nbformat_minor": 5
}
